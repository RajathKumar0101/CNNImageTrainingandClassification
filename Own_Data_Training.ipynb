{
 "cells": [
  {
   "cell_type": "markdown",
   "metadata": {},
   "source": [
    "### Description Generation for Images\n",
    "\n",
    "Description Generation for Images included Two Major Domains Image Processing as well as NLTP [Natural Language and Text Processing]\n",
    "\n",
    "* Image Processing used to Blob Detection in the Sense Object Detection and Recognition.\n",
    "\n",
    "* NLTK [Natural Language and Text Processing] is used to Generate Text for the Blob We Detected in Image.\n",
    "\n",
    "Rajath Kumar K S\n",
    "Bangalore"
   ]
  },
  {
   "cell_type": "markdown",
   "metadata": {},
   "source": [
    "![title](CNN_Basic.png)"
   ]
  },
  {
   "cell_type": "markdown",
   "metadata": {},
   "source": [
    "### Training of Images for Object prediction using Keras Using TensorFlow Backend."
   ]
  },
  {
   "cell_type": "markdown",
   "metadata": {},
   "source": [
    "Importing Basic Packages Required for the Program."
   ]
  },
  {
   "cell_type": "code",
   "execution_count": 1,
   "metadata": {},
   "outputs": [],
   "source": [
    "import os\n",
    "import cv2\n",
    "import numpy as np\n",
    "import matplotlib.pyplot as plt"
   ]
  },
  {
   "cell_type": "markdown",
   "metadata": {},
   "source": [
    "Importing Machine learning Libraries Required for the Program. We're using sklearn Tools for Machine Learning."
   ]
  },
  {
   "cell_type": "code",
   "execution_count": 4,
   "metadata": {},
   "outputs": [],
   "source": [
    "from sklearn.utils import shuffle\n",
    "from sklearn.model_selection  import train_test_split"
   ]
  },
  {
   "cell_type": "markdown",
   "metadata": {},
   "source": [
    "Importing Deep learning Libraries for Training Images. We're using Keras with Tensor Flow BackGround"
   ]
  },
  {
   "cell_type": "code",
   "execution_count": 5,
   "metadata": {},
   "outputs": [
    {
     "name": "stderr",
     "output_type": "stream",
     "text": [
      "Using TensorFlow backend.\n"
     ]
    }
   ],
   "source": [
    "from keras import backend as K\n",
    "K.set_image_dim_ordering('th')"
   ]
  },
  {
   "cell_type": "code",
   "execution_count": 6,
   "metadata": {},
   "outputs": [],
   "source": [
    "from keras.utils import np_utils\n",
    "from keras.models import Sequential\n",
    "from keras.layers.core import Dense, Dropout, Activation, Flatten\n",
    "from keras.layers.convolutional import Conv2D, MaxPooling2D\n",
    "from keras.optimizers import SGD, RMSprop,adam"
   ]
  },
  {
   "cell_type": "markdown",
   "metadata": {},
   "source": [
    "Reading paths"
   ]
  },
  {
   "cell_type": "code",
   "execution_count": 26,
   "metadata": {},
   "outputs": [
    {
     "name": "stdout",
     "output_type": "stream",
     "text": [
      "C:\\Users\\Rajath Kumar K S\\Downloads\\CaptionGenerationandObjectDetection\n",
      "C:\\Users\\Rajath Kumar K S\\Downloads\\CaptionGenerationandObjectDetection\\data\n",
      "['cats', 'dogs', 'horses', 'Humans']\n"
     ]
    }
   ],
   "source": [
    "PATH = os.getcwd()\n",
    "print(PATH)\n",
    "\n",
    "DATA_PATH = PATH + '\\data'\n",
    "print(DATA_PATH)\n",
    "\n",
    "DATA_DIR_LIST = os.listdir(DATA_PATH)\n",
    "print(DATA_DIR_LIST)"
   ]
  },
  {
   "cell_type": "markdown",
   "metadata": {},
   "source": [
    "![title](general-architecture-convnet.jpg)"
   ]
  },
  {
   "cell_type": "markdown",
   "metadata": {},
   "source": [
    "Defining Configurations for Training Model"
   ]
  },
  {
   "cell_type": "code",
   "execution_count": 27,
   "metadata": {},
   "outputs": [],
   "source": [
    "img_rows = 128\n",
    "img_cols = 128\n",
    "num_channel = 1\n",
    "num_epoch = 25"
   ]
  },
  {
   "cell_type": "markdown",
   "metadata": {},
   "source": [
    "Defining Number of Classes\n",
    "* Classification of Images Different Type of Images in Different Folder\n",
    "* In this Case Right Now I've Taken Four Classes of Images like 1. Dogs, 2. Cats, 3. Humans, 4. Horses"
   ]
  },
  {
   "cell_type": "code",
   "execution_count": 28,
   "metadata": {},
   "outputs": [],
   "source": [
    "num_classes = 4"
   ]
  },
  {
   "cell_type": "code",
   "execution_count": 29,
   "metadata": {},
   "outputs": [],
   "source": [
    "img_data_list = []"
   ]
  },
  {
   "cell_type": "code",
   "execution_count": 30,
   "metadata": {},
   "outputs": [
    {
     "name": "stdout",
     "output_type": "stream",
     "text": [
      "Loaded the images of Dataset -  cats\n",
      "\n",
      "Loaded the images of Dataset -  dogs\n",
      "\n",
      "Loaded the images of Dataset -  horses\n",
      "\n",
      "Loaded the images of Dataset -  Humans\n",
      "\n"
     ]
    }
   ],
   "source": [
    "for dataset in DATA_DIR_LIST:\n",
    "    img_list = os.listdir(DATA_PATH+'\\\\'+dataset)\n",
    "    print('Loaded the images of Dataset - '+' {}\\n'.format(dataset))\n",
    "    for img in img_list:\n",
    "        input_img=cv2.imread(DATA_PATH + '\\\\'+ dataset + '\\\\'+ img )\n",
    "        input_img=cv2.cvtColor(input_img, cv2.COLOR_BGR2GRAY)\n",
    "        input_img_resize=cv2.resize(input_img,(128,128))\n",
    "        img_data_list.append(input_img_resize)"
   ]
  },
  {
   "cell_type": "code",
   "execution_count": 31,
   "metadata": {},
   "outputs": [
    {
     "name": "stdout",
     "output_type": "stream",
     "text": [
      "(808, 128, 128)\n"
     ]
    }
   ],
   "source": [
    "img_data = np.array(img_data_list)\n",
    "img_data = img_data.astype('float32')\n",
    "img_data /= 255\n",
    "print (img_data.shape)"
   ]
  },
  {
   "cell_type": "code",
   "execution_count": 32,
   "metadata": {},
   "outputs": [
    {
     "name": "stdout",
     "output_type": "stream",
     "text": [
      "(808, 1, 128, 128)\n"
     ]
    }
   ],
   "source": [
    "if num_channel==1:\n",
    "    if K.image_dim_ordering()=='th':\n",
    "        img_data= np.expand_dims(img_data, axis=1) \n",
    "        print (img_data.shape)\n",
    "    else:\n",
    "        img_data= np.expand_dims(img_data, axis=4) \n",
    "        print (img_data.shape)\n",
    "else:\n",
    "    if K.image_dim_ordering()=='th':\n",
    "        img_data=np.rollaxis(img_data,3,1)\n",
    "        print (img_data.shape)"
   ]
  },
  {
   "cell_type": "code",
   "execution_count": 33,
   "metadata": {},
   "outputs": [],
   "source": [
    "num_of_samples = img_data.shape[0]\n",
    "labels = np.ones((num_of_samples,),dtype='int64')"
   ]
  },
  {
   "cell_type": "code",
   "execution_count": 34,
   "metadata": {},
   "outputs": [],
   "source": [
    "labels[0:202]=0\n",
    "labels[202:404]=1\n",
    "labels[404:606]=2\n",
    "labels[606:]=3"
   ]
  },
  {
   "cell_type": "code",
   "execution_count": 35,
   "metadata": {},
   "outputs": [
    {
     "data": {
      "text/plain": [
       "array([0, 0, 0, 0, 0, 0, 0, 0, 0, 0, 0, 0, 0, 0, 0, 0, 0, 0, 0, 0, 0, 0,\n",
       "       0, 0, 0, 0, 0, 0, 0, 0, 0, 0, 0, 0, 0, 0, 0, 0, 0, 0, 0, 0, 0, 0,\n",
       "       0, 0, 0, 0, 0, 0, 0, 0, 0, 0, 0, 0, 0, 0, 0, 0, 0, 0, 0, 0, 0, 0,\n",
       "       0, 0, 0, 0, 0, 0, 0, 0, 0, 0, 0, 0, 0, 0, 0, 0, 0, 0, 0, 0, 0, 0,\n",
       "       0, 0, 0, 0, 0, 0, 0, 0, 0, 0, 0, 0, 0, 0, 0, 0, 0, 0, 0, 0, 0, 0,\n",
       "       0, 0, 0, 0, 0, 0, 0, 0, 0, 0, 0, 0, 0, 0, 0, 0, 0, 0, 0, 0, 0, 0,\n",
       "       0, 0, 0, 0, 0, 0, 0, 0, 0, 0, 0, 0, 0, 0, 0, 0, 0, 0, 0, 0, 0, 0,\n",
       "       0, 0, 0, 0, 0, 0, 0, 0, 0, 0, 0, 0, 0, 0, 0, 0, 0, 0, 0, 0, 0, 0,\n",
       "       0, 0, 0, 0, 0, 0, 0, 0, 0, 0, 0, 0, 0, 0, 0, 0, 0, 0, 0, 0, 0, 0,\n",
       "       0, 0, 0, 0, 1, 1, 1, 1, 1, 1, 1, 1, 1, 1, 1, 1, 1, 1, 1, 1, 1, 1,\n",
       "       1, 1, 1, 1, 1, 1, 1, 1, 1, 1, 1, 1, 1, 1, 1, 1, 1, 1, 1, 1, 1, 1,\n",
       "       1, 1, 1, 1, 1, 1, 1, 1, 1, 1, 1, 1, 1, 1, 1, 1, 1, 1, 1, 1, 1, 1,\n",
       "       1, 1, 1, 1, 1, 1, 1, 1, 1, 1, 1, 1, 1, 1, 1, 1, 1, 1, 1, 1, 1, 1,\n",
       "       1, 1, 1, 1, 1, 1, 1, 1, 1, 1, 1, 1, 1, 1, 1, 1, 1, 1, 1, 1, 1, 1,\n",
       "       1, 1, 1, 1, 1, 1, 1, 1, 1, 1, 1, 1, 1, 1, 1, 1, 1, 1, 1, 1, 1, 1,\n",
       "       1, 1, 1, 1, 1, 1, 1, 1, 1, 1, 1, 1, 1, 1, 1, 1, 1, 1, 1, 1, 1, 1,\n",
       "       1, 1, 1, 1, 1, 1, 1, 1, 1, 1, 1, 1, 1, 1, 1, 1, 1, 1, 1, 1, 1, 1,\n",
       "       1, 1, 1, 1, 1, 1, 1, 1, 1, 1, 1, 1, 1, 1, 1, 1, 1, 1, 1, 1, 1, 1,\n",
       "       1, 1, 1, 1, 1, 1, 1, 1, 2, 2, 2, 2, 2, 2, 2, 2, 2, 2, 2, 2, 2, 2,\n",
       "       2, 2, 2, 2, 2, 2, 2, 2, 2, 2, 2, 2, 2, 2, 2, 2, 2, 2, 2, 2, 2, 2,\n",
       "       2, 2, 2, 2, 2, 2, 2, 2, 2, 2, 2, 2, 2, 2, 2, 2, 2, 2, 2, 2, 2, 2,\n",
       "       2, 2, 2, 2, 2, 2, 2, 2, 2, 2, 2, 2, 2, 2, 2, 2, 2, 2, 2, 2, 2, 2,\n",
       "       2, 2, 2, 2, 2, 2, 2, 2, 2, 2, 2, 2, 2, 2, 2, 2, 2, 2, 2, 2, 2, 2,\n",
       "       2, 2, 2, 2, 2, 2, 2, 2, 2, 2, 2, 2, 2, 2, 2, 2, 2, 2, 2, 2, 2, 2,\n",
       "       2, 2, 2, 2, 2, 2, 2, 2, 2, 2, 2, 2, 2, 2, 2, 2, 2, 2, 2, 2, 2, 2,\n",
       "       2, 2, 2, 2, 2, 2, 2, 2, 2, 2, 2, 2, 2, 2, 2, 2, 2, 2, 2, 2, 2, 2,\n",
       "       2, 2, 2, 2, 2, 2, 2, 2, 2, 2, 2, 2, 2, 2, 2, 2, 2, 2, 2, 2, 2, 2,\n",
       "       2, 2, 2, 2, 2, 2, 2, 2, 2, 2, 2, 2, 3, 3, 3, 3, 3, 3, 3, 3, 3, 3,\n",
       "       3, 3, 3, 3, 3, 3, 3, 3, 3, 3, 3, 3, 3, 3, 3, 3, 3, 3, 3, 3, 3, 3,\n",
       "       3, 3, 3, 3, 3, 3, 3, 3, 3, 3, 3, 3, 3, 3, 3, 3, 3, 3, 3, 3, 3, 3,\n",
       "       3, 3, 3, 3, 3, 3, 3, 3, 3, 3, 3, 3, 3, 3, 3, 3, 3, 3, 3, 3, 3, 3,\n",
       "       3, 3, 3, 3, 3, 3, 3, 3, 3, 3, 3, 3, 3, 3, 3, 3, 3, 3, 3, 3, 3, 3,\n",
       "       3, 3, 3, 3, 3, 3, 3, 3, 3, 3, 3, 3, 3, 3, 3, 3, 3, 3, 3, 3, 3, 3,\n",
       "       3, 3, 3, 3, 3, 3, 3, 3, 3, 3, 3, 3, 3, 3, 3, 3, 3, 3, 3, 3, 3, 3,\n",
       "       3, 3, 3, 3, 3, 3, 3, 3, 3, 3, 3, 3, 3, 3, 3, 3, 3, 3, 3, 3, 3, 3,\n",
       "       3, 3, 3, 3, 3, 3, 3, 3, 3, 3, 3, 3, 3, 3, 3, 3, 3, 3, 3, 3, 3, 3,\n",
       "       3, 3, 3, 3, 3, 3, 3, 3, 3, 3, 3, 3, 3, 3, 3, 3], dtype=int64)"
      ]
     },
     "execution_count": 35,
     "metadata": {},
     "output_type": "execute_result"
    }
   ],
   "source": [
    "labels"
   ]
  },
  {
   "cell_type": "code",
   "execution_count": 36,
   "metadata": {},
   "outputs": [],
   "source": [
    "names = ['cats','dogs','horses','humans']"
   ]
  },
  {
   "cell_type": "code",
   "execution_count": 37,
   "metadata": {},
   "outputs": [],
   "source": [
    "# convert class labels to on-hot encoding\n",
    "Y = np_utils.to_categorical(labels, num_classes)"
   ]
  },
  {
   "cell_type": "code",
   "execution_count": 38,
   "metadata": {},
   "outputs": [
    {
     "data": {
      "text/plain": [
       "array([[1., 0., 0., 0.],\n",
       "       [1., 0., 0., 0.],\n",
       "       [1., 0., 0., 0.],\n",
       "       ...,\n",
       "       [0., 0., 0., 1.],\n",
       "       [0., 0., 0., 1.],\n",
       "       [0., 0., 0., 1.]], dtype=float32)"
      ]
     },
     "execution_count": 38,
     "metadata": {},
     "output_type": "execute_result"
    }
   ],
   "source": [
    "Y"
   ]
  },
  {
   "cell_type": "code",
   "execution_count": 39,
   "metadata": {},
   "outputs": [],
   "source": [
    "#Shuffle the dataset\n",
    "x,y = shuffle(img_data,Y, random_state=2)\n",
    "# Split the dataset\n",
    "X_train, X_test, y_train, y_test = train_test_split(x, y, test_size=0.2, random_state=2)"
   ]
  },
  {
   "cell_type": "code",
   "execution_count": 40,
   "metadata": {},
   "outputs": [],
   "source": [
    "# Defining the model\n",
    "\n",
    "# dimensions of our images.\n",
    "#img_width, img_height = 224, 224\n",
    "\n",
    "#if K.image_data_format() == 'channels_first':\n",
    "#    input_shape = (3, img_width, img_height)\n",
    "#else:\n",
    "#    input_shape = (img_width, img_height, 3)\n",
    "\n",
    "input_shape=img_data[0].shape\n",
    "\n",
    "model = Sequential()\n",
    "\n",
    "model.add(Conv2D(32, (3,3), input_shape=input_shape))\n",
    "model.add(Activation('relu'))\n",
    "model.add(Conv2D(32, (3, 3)))\n",
    "model.add(Activation('relu'))\n",
    "model.add(MaxPooling2D(pool_size=(2, 2)))\n",
    "model.add(Dropout(0.5))\n",
    "\n",
    "model.add(Conv2D(64, (3, 3)))\n",
    "model.add(Activation('relu'))\n",
    "#model.add(Convolution2D(64, 3, 3))\n",
    "#model.add(Activation('relu'))\n",
    "model.add(MaxPooling2D(pool_size=(2, 2)))\n",
    "model.add(Dropout(0.5))\n",
    "\n",
    "model.add(Flatten())\n",
    "model.add(Dense(64))\n",
    "model.add(Activation('relu'))\n",
    "model.add(Dropout(0.5))\n",
    "model.add(Dense(num_classes))\n",
    "model.add(Activation('softmax'))\n",
    "\n",
    "model.compile(loss='categorical_crossentropy', optimizer='rmsprop',metrics=[\"accuracy\"])"
   ]
  },
  {
   "cell_type": "markdown",
   "metadata": {},
   "source": [
    "![title](CNN_Advanced.png)"
   ]
  },
  {
   "cell_type": "code",
   "execution_count": 41,
   "metadata": {},
   "outputs": [
    {
     "name": "stdout",
     "output_type": "stream",
     "text": [
      "_________________________________________________________________\n",
      "Layer (type)                 Output Shape              Param #   \n",
      "=================================================================\n",
      "conv2d_1 (Conv2D)            (None, 32, 126, 126)      320       \n",
      "_________________________________________________________________\n",
      "activation_1 (Activation)    (None, 32, 126, 126)      0         \n",
      "_________________________________________________________________\n",
      "conv2d_2 (Conv2D)            (None, 32, 124, 124)      9248      \n",
      "_________________________________________________________________\n",
      "activation_2 (Activation)    (None, 32, 124, 124)      0         \n",
      "_________________________________________________________________\n",
      "max_pooling2d_1 (MaxPooling2 (None, 32, 62, 62)        0         \n",
      "_________________________________________________________________\n",
      "dropout_1 (Dropout)          (None, 32, 62, 62)        0         \n",
      "_________________________________________________________________\n",
      "conv2d_3 (Conv2D)            (None, 64, 60, 60)        18496     \n",
      "_________________________________________________________________\n",
      "activation_3 (Activation)    (None, 64, 60, 60)        0         \n",
      "_________________________________________________________________\n",
      "max_pooling2d_2 (MaxPooling2 (None, 64, 30, 30)        0         \n",
      "_________________________________________________________________\n",
      "dropout_2 (Dropout)          (None, 64, 30, 30)        0         \n",
      "_________________________________________________________________\n",
      "flatten_1 (Flatten)          (None, 57600)             0         \n",
      "_________________________________________________________________\n",
      "dense_1 (Dense)              (None, 64)                3686464   \n",
      "_________________________________________________________________\n",
      "activation_4 (Activation)    (None, 64)                0         \n",
      "_________________________________________________________________\n",
      "dropout_3 (Dropout)          (None, 64)                0         \n",
      "_________________________________________________________________\n",
      "dense_2 (Dense)              (None, 4)                 260       \n",
      "_________________________________________________________________\n",
      "activation_5 (Activation)    (None, 4)                 0         \n",
      "=================================================================\n",
      "Total params: 3,714,788\n",
      "Trainable params: 3,714,788\n",
      "Non-trainable params: 0\n",
      "_________________________________________________________________\n"
     ]
    },
    {
     "data": {
      "text/plain": [
       "True"
      ]
     },
     "execution_count": 41,
     "metadata": {},
     "output_type": "execute_result"
    }
   ],
   "source": [
    "# Viewing model_configuration\n",
    "\n",
    "model.summary()\n",
    "model.get_config()\n",
    "model.layers[0].get_config()\n",
    "model.layers[0].input_shape\n",
    "model.layers[0].output_shape\n",
    "model.layers[0].get_weights()\n",
    "np.shape(model.layers[0].get_weights()[0])\n",
    "model.layers[0].trainable"
   ]
  },
  {
   "cell_type": "markdown",
   "metadata": {},
   "source": [
    "![title](softmax.jpg)"
   ]
  },
  {
   "cell_type": "code",
   "execution_count": 42,
   "metadata": {},
   "outputs": [
    {
     "name": "stdout",
     "output_type": "stream",
     "text": [
      "Model Training Started Wait a While Until It's Get Completed\n",
      "Train on 646 samples, validate on 162 samples\n",
      "Epoch 1/25\n",
      "646/646 [==============================] - 148s 229ms/step - loss: 1.5379 - acc: 0.2647 - val_loss: 1.3805 - val_acc: 0.2346\n",
      "Epoch 2/25\n",
      "646/646 [==============================] - 161s 249ms/step - loss: 1.3407 - acc: 0.3669 - val_loss: 1.2647 - val_acc: 0.3951\n",
      "Epoch 3/25\n",
      "646/646 [==============================] - 157s 244ms/step - loss: 1.2209 - acc: 0.4489 - val_loss: 1.2099 - val_acc: 0.4815\n",
      "Epoch 4/25\n",
      "646/646 [==============================] - 160s 247ms/step - loss: 1.1311 - acc: 0.5015 - val_loss: 1.2062 - val_acc: 0.4815\n",
      "Epoch 5/25\n",
      "646/646 [==============================] - 156s 241ms/step - loss: 1.0138 - acc: 0.5789 - val_loss: 1.1582 - val_acc: 0.5185\n",
      "Epoch 6/25\n",
      "646/646 [==============================] - 175s 271ms/step - loss: 0.9134 - acc: 0.6146 - val_loss: 1.0639 - val_acc: 0.5247\n",
      "Epoch 7/25\n",
      "646/646 [==============================] - 210s 325ms/step - loss: 0.8291 - acc: 0.6641 - val_loss: 1.2547 - val_acc: 0.4198\n",
      "Epoch 8/25\n",
      "646/646 [==============================] - 208s 322ms/step - loss: 0.7303 - acc: 0.6981 - val_loss: 1.3014 - val_acc: 0.4259\n",
      "Epoch 9/25\n",
      "646/646 [==============================] - 237s 367ms/step - loss: 0.7043 - acc: 0.6997 - val_loss: 1.2153 - val_acc: 0.5370\n",
      "Epoch 10/25\n",
      "646/646 [==============================] - 194s 300ms/step - loss: 0.6630 - acc: 0.7399 - val_loss: 1.1677 - val_acc: 0.4815\n",
      "Epoch 11/25\n",
      "646/646 [==============================] - 188s 292ms/step - loss: 0.5428 - acc: 0.7755 - val_loss: 1.1129 - val_acc: 0.5309\n",
      "Epoch 12/25\n",
      "646/646 [==============================] - 182s 281ms/step - loss: 0.4983 - acc: 0.7972 - val_loss: 1.5490 - val_acc: 0.4815\n",
      "Epoch 13/25\n",
      "646/646 [==============================] - 215s 332ms/step - loss: 0.4879 - acc: 0.8127 - val_loss: 1.3265 - val_acc: 0.4815\n",
      "Epoch 14/25\n",
      "646/646 [==============================] - 206s 319ms/step - loss: 0.4364 - acc: 0.8158 - val_loss: 1.5309 - val_acc: 0.4938\n",
      "Epoch 15/25\n",
      "646/646 [==============================] - 164s 254ms/step - loss: 0.4112 - acc: 0.8344 - val_loss: 1.3075 - val_acc: 0.4938\n",
      "Epoch 16/25\n",
      "646/646 [==============================] - 198s 306ms/step - loss: 0.3708 - acc: 0.8406 - val_loss: 1.6473 - val_acc: 0.4753\n",
      "Epoch 17/25\n",
      "646/646 [==============================] - 191s 296ms/step - loss: 0.3884 - acc: 0.8344 - val_loss: 1.5617 - val_acc: 0.5309\n",
      "Epoch 18/25\n",
      "646/646 [==============================] - 173s 267ms/step - loss: 0.3980 - acc: 0.8344 - val_loss: 1.3149 - val_acc: 0.5247\n",
      "Epoch 19/25\n",
      "646/646 [==============================] - 181s 280ms/step - loss: 0.3480 - acc: 0.8700 - val_loss: 1.5224 - val_acc: 0.5309\n",
      "Epoch 20/25\n",
      "646/646 [==============================] - 183s 283ms/step - loss: 0.3674 - acc: 0.8545 - val_loss: 1.3517 - val_acc: 0.5556\n",
      "Epoch 21/25\n",
      "646/646 [==============================] - 181s 280ms/step - loss: 0.3628 - acc: 0.8607 - val_loss: 1.6091 - val_acc: 0.5494\n",
      "Epoch 22/25\n",
      "646/646 [==============================] - 190s 295ms/step - loss: 0.3599 - acc: 0.8545 - val_loss: 1.8126 - val_acc: 0.4753\n",
      "Epoch 23/25\n",
      "646/646 [==============================] - 195s 302ms/step - loss: 0.3776 - acc: 0.8622 - val_loss: 1.1962 - val_acc: 0.5000\n",
      "Epoch 24/25\n",
      "646/646 [==============================] - 191s 296ms/step - loss: 0.3145 - acc: 0.8715 - val_loss: 1.5964 - val_acc: 0.5494\n",
      "Epoch 25/25\n",
      "646/646 [==============================] - 191s 295ms/step - loss: 0.3080 - acc: 0.8885 - val_loss: 1.4212 - val_acc: 0.5556\n",
      "Model Training Completed\n"
     ]
    }
   ],
   "source": [
    "print(\"Model Training Started Wait a While Until It's Get Completed\")\n",
    "hist = model.fit(X_train, y_train, batch_size=16, epochs=num_epoch, verbose=1, validation_data=(X_test, y_test))\n",
    "print(\"Model Training Completed\")"
   ]
  },
  {
   "cell_type": "code",
   "execution_count": 43,
   "metadata": {},
   "outputs": [],
   "source": [
    "%matplotlib inline"
   ]
  },
  {
   "cell_type": "markdown",
   "metadata": {},
   "source": [
    "### Training and Accuracy Curve\n",
    "![Reference for Training and Accuracy Curve](earlystop.png)"
   ]
  },
  {
   "cell_type": "code",
   "execution_count": 44,
   "metadata": {},
   "outputs": [
    {
     "data": {
      "text/plain": [
       "<matplotlib.legend.Legend at 0x1ca4f471908>"
      ]
     },
     "execution_count": 44,
     "metadata": {},
     "output_type": "execute_result"
    },
    {
     "data": {
      "image/png": "[encoded data removed]",
      "text/plain": [
       "<Figure size 432x288 with 1 Axes>"
      ]
     },
     "metadata": {},
     "output_type": "display_data"
    }
   ],
   "source": [
    "plt.style.use(\"ggplot\")\n",
    "plt.figure()\n",
    "N = num_epoch\n",
    "plt.plot(np.arange(0, N), hist.history[\"loss\"], label=\"train_loss\")\n",
    "plt.plot(np.arange(0, N), hist.history[\"val_loss\"], label=\"val_loss\")\n",
    "plt.plot(np.arange(0, N), hist.history[\"acc\"], label=\"train_acc\")\n",
    "plt.plot(np.arange(0, N), hist.history[\"val_acc\"], label=\"val_acc\")\n",
    "plt.title(\"Training Loss and Accuracy\")\n",
    "plt.xlabel(\"Epoch #\")\n",
    "plt.ylabel(\"Loss/Accuracy\")\n",
    "plt.legend(loc=\"lower left\")\n",
    "#plt.savefig(args[\"plot\"])"
   ]
  },
  {
   "cell_type": "code",
   "execution_count": 45,
   "metadata": {},
   "outputs": [],
   "source": [
    "# Training with callbacks\n",
    "from keras import callbacks"
   ]
  },
  {
   "cell_type": "code",
   "execution_count": 46,
   "metadata": {},
   "outputs": [],
   "source": [
    "filename='model_train_new.csv'\n",
    "csv_log=callbacks.CSVLogger(filename, separator=',', append=False)"
   ]
  },
  {
   "cell_type": "code",
   "execution_count": 47,
   "metadata": {},
   "outputs": [],
   "source": [
    "early_stopping=callbacks.EarlyStopping(monitor='val_loss', min_delta=0, patience=2, verbose=0, mode='min')"
   ]
  },
  {
   "cell_type": "code",
   "execution_count": 48,
   "metadata": {},
   "outputs": [],
   "source": [
    "filepath=\"Best-weights-my_model-{epoch:03d}-{loss:.4f}-{acc:.4f}.hdf5\""
   ]
  },
  {
   "cell_type": "code",
   "execution_count": 49,
   "metadata": {},
   "outputs": [],
   "source": [
    "checkpoint = callbacks.ModelCheckpoint(filepath, monitor='val_loss', verbose=1, save_best_only=True, mode='min')"
   ]
  },
  {
   "cell_type": "code",
   "execution_count": 50,
   "metadata": {},
   "outputs": [],
   "source": [
    "callbacks_list = [csv_log,early_stopping,checkpoint]"
   ]
  },
  {
   "cell_type": "code",
   "execution_count": 51,
   "metadata": {},
   "outputs": [
    {
     "name": "stdout",
     "output_type": "stream",
     "text": [
      "Model Training Started Wait a While Until It's Get Completed\n",
      "Train on 646 samples, validate on 162 samples\n",
      "Epoch 1/25\n",
      "646/646 [==============================] - 179s 277ms/step - loss: 0.3625 - acc: 0.8390 - val_loss: 1.6208 - val_acc: 0.4938\n",
      "\n",
      "Epoch 00001: val_loss improved from inf to 1.62075, saving model to Best-weights-my_model-001-0.3625-0.8390.hdf5\n",
      "Epoch 2/25\n",
      "646/646 [==============================] - 203s 314ms/step - loss: 0.3510 - acc: 0.8669 - val_loss: 1.7326 - val_acc: 0.4938\n",
      "\n",
      "Epoch 00002: val_loss did not improve from 1.62075\n",
      "Epoch 3/25\n",
      "646/646 [==============================] - 159s 247ms/step - loss: 0.3829 - acc: 0.8437 - val_loss: 1.4525 - val_acc: 0.5494\n",
      "\n",
      "Epoch 00003: val_loss improved from 1.62075 to 1.45247, saving model to Best-weights-my_model-003-0.3829-0.8437.hdf5\n",
      "Epoch 4/25\n",
      "646/646 [==============================] - 182s 281ms/step - loss: 0.4143 - acc: 0.8514 - val_loss: 1.4344 - val_acc: 0.5062\n",
      "\n",
      "Epoch 00004: val_loss improved from 1.45247 to 1.43439, saving model to Best-weights-my_model-004-0.4143-0.8514.hdf5\n",
      "Epoch 5/25\n",
      "646/646 [==============================] - 166s 257ms/step - loss: 0.3867 - acc: 0.8700 - val_loss: 1.4353 - val_acc: 0.5494\n",
      "\n",
      "Epoch 00005: val_loss did not improve from 1.43439\n",
      "Epoch 6/25\n",
      "646/646 [==============================] - 168s 260ms/step - loss: 0.3529 - acc: 0.8622 - val_loss: 1.6027 - val_acc: 0.5000\n",
      "\n",
      "Epoch 00006: val_loss did not improve from 1.43439\n",
      "Model Training Completed\n"
     ]
    }
   ],
   "source": [
    "print(\"Model Training Started Wait a While Until It's Get Completed\")\n",
    "hist = model.fit(X_train, y_train, batch_size=16, epochs=num_epoch, verbose=1, validation_data=(X_test, y_test),callbacks=callbacks_list)\n",
    "print(\"Model Training Completed\")"
   ]
  },
  {
   "cell_type": "code",
   "execution_count": 66,
   "metadata": {},
   "outputs": [],
   "source": [
    "train_loss=hist.history['loss']\n",
    "val_loss=hist.history['val_loss']\n",
    "train_acc=hist.history['acc']\n",
    "val_acc=hist.history['val_acc']\n",
    "xc=range(6)"
   ]
  },
  {
   "cell_type": "code",
   "execution_count": 67,
   "metadata": {},
   "outputs": [
    {
     "data": {
      "text/plain": [
       "[0.3625010556019497,\n",
       " 0.3510149658741228,\n",
       " 0.3829233427719435,\n",
       " 0.41431847592994525,\n",
       " 0.3867188396837689,\n",
       " 0.35288972326845575]"
      ]
     },
     "execution_count": 67,
     "metadata": {},
     "output_type": "execute_result"
    }
   ],
   "source": [
    "train_loss"
   ]
  },
  {
   "cell_type": "code",
   "execution_count": 68,
   "metadata": {},
   "outputs": [
    {
     "data": {
      "text/plain": [
       "[0.8390092877411621,\n",
       " 0.8668730650154799,\n",
       " 0.8436532505894593,\n",
       " 0.8513931886699546,\n",
       " 0.8699690402476781,\n",
       " 0.8622291019826481]"
      ]
     },
     "execution_count": 68,
     "metadata": {},
     "output_type": "execute_result"
    }
   ],
   "source": [
    "train_acc"
   ]
  },
  {
   "cell_type": "code",
   "execution_count": 69,
   "metadata": {},
   "outputs": [
    {
     "data": {
      "text/plain": [
       "[1.62075396526007,\n",
       " 1.7326229766563133,\n",
       " 1.4524739759939689,\n",
       " 1.4343875484702029,\n",
       " 1.4353121563240334,\n",
       " 1.602714595971284]"
      ]
     },
     "execution_count": 69,
     "metadata": {},
     "output_type": "execute_result"
    }
   ],
   "source": [
    "val_loss"
   ]
  },
  {
   "cell_type": "code",
   "execution_count": 70,
   "metadata": {},
   "outputs": [
    {
     "data": {
      "text/plain": [
       "[0.49382716049382713,\n",
       " 0.49382716049382713,\n",
       " 0.5493827160493827,\n",
       " 0.5061728395061729,\n",
       " 0.5493827160493827,\n",
       " 0.5]"
      ]
     },
     "execution_count": 70,
     "metadata": {},
     "output_type": "execute_result"
    }
   ],
   "source": [
    "val_acc"
   ]
  },
  {
   "cell_type": "code",
   "execution_count": 71,
   "metadata": {},
   "outputs": [],
   "source": [
    "%matplotlib inline"
   ]
  },
  {
   "cell_type": "code",
   "execution_count": 72,
   "metadata": {},
   "outputs": [
    {
     "data": {
      "image/png": "[encoded data removed]",
      "text/plain": [
       "<Figure size 504x360 with 1 Axes>"
      ]
     },
     "metadata": {
      "needs_background": "light"
     },
     "output_type": "display_data"
    }
   ],
   "source": [
    "plt.figure(1,figsize=(7,5))\n",
    "plt.plot(xc,train_loss)\n",
    "plt.plot(xc,val_loss)\n",
    "plt.xlabel('num of Epochs')\n",
    "plt.ylabel('loss')\n",
    "plt.title('train_loss vs val_loss')\n",
    "plt.grid(True)\n",
    "plt.legend(['train','val'])\n",
    "plt.style.use(['classic'])"
   ]
  },
  {
   "cell_type": "code",
   "execution_count": 73,
   "metadata": {},
   "outputs": [],
   "source": [
    "%matplotlib inline"
   ]
  },
  {
   "cell_type": "code",
   "execution_count": 74,
   "metadata": {},
   "outputs": [
    {
     "data": {
      "image/png": "[encoded data removed]",
      "text/plain": [
       "<Figure size 504x360 with 1 Axes>"
      ]
     },
     "metadata": {
      "needs_background": "light"
     },
     "output_type": "display_data"
    }
   ],
   "source": [
    "plt.figure(2,figsize=(7,5))\n",
    "plt.plot(xc,train_acc)\n",
    "plt.plot(xc,val_acc)\n",
    "plt.xlabel('num of Epochs')\n",
    "plt.ylabel('accuracy')\n",
    "plt.title('train_acc vs val_acc')\n",
    "plt.grid(True)\n",
    "plt.legend(['train','val'])\n",
    "plt.style.use(['classic'])"
   ]
  },
  {
   "cell_type": "code",
   "execution_count": 75,
   "metadata": {},
   "outputs": [
    {
     "name": "stdout",
     "output_type": "stream",
     "text": [
      "Test Loss: 1.6027146077450412\n",
      "Test accuracy: 0.5\n"
     ]
    }
   ],
   "source": [
    "score = model.evaluate(X_test, y_test, verbose=0)\n",
    "print('Test Loss:', score[0])\n",
    "print('Test accuracy:', score[1])"
   ]
  },
  {
   "cell_type": "code",
   "execution_count": 76,
   "metadata": {},
   "outputs": [
    {
     "name": "stdout",
     "output_type": "stream",
     "text": [
      "(1, 1, 128, 128)\n"
     ]
    }
   ],
   "source": [
    "test_image = X_test[0:1]\n",
    "print (test_image.shape)"
   ]
  },
  {
   "cell_type": "code",
   "execution_count": 77,
   "metadata": {},
   "outputs": [
    {
     "name": "stdout",
     "output_type": "stream",
     "text": [
      "[[6.9700298e-05 2.0247183e-03 9.9627352e-01 1.6321237e-03]]\n",
      "[2]\n",
      "[[0. 0. 1. 0.]]\n"
     ]
    }
   ],
   "source": [
    "print(model.predict(test_image))\n",
    "print(model.predict_classes(test_image))\n",
    "print(y_test[0:1])"
   ]
  },
  {
   "cell_type": "code",
   "execution_count": 78,
   "metadata": {},
   "outputs": [
    {
     "name": "stdout",
     "output_type": "stream",
     "text": [
      "(128, 128)\n"
     ]
    }
   ],
   "source": [
    "test_image = cv2.imread('data/Humans/rider-8.jpg')\n",
    "test_image=cv2.cvtColor(test_image, cv2.COLOR_BGR2GRAY)\n",
    "test_image=cv2.resize(test_image,(128,128))\n",
    "test_image = np.array(test_image)\n",
    "test_image = test_image.astype('float32')\n",
    "test_image /= 255\n",
    "print (test_image.shape)"
   ]
  },
  {
   "cell_type": "code",
   "execution_count": 79,
   "metadata": {},
   "outputs": [
    {
     "name": "stdout",
     "output_type": "stream",
     "text": [
      "(1, 1, 128, 128)\n"
     ]
    }
   ],
   "source": [
    "if num_channel==1:\n",
    "    if K.image_dim_ordering()=='th':\n",
    "        test_image= np.expand_dims(test_image, axis=0)\n",
    "        test_image= np.expand_dims(test_image, axis=0)\n",
    "        print (test_image.shape)\n",
    "    else:\n",
    "        test_image= np.expand_dims(test_image, axis=3) \n",
    "        test_image= np.expand_dims(test_image, axis=0)\n",
    "        print (test_image.shape)\n",
    "else:\n",
    "    if K.image_dim_ordering()=='th':\n",
    "        test_image=np.rollaxis(test_image,2,0)\n",
    "        test_image= np.expand_dims(test_image, axis=0)\n",
    "        print (test_image.shape)\n",
    "    else:\n",
    "        test_image= np.expand_dims(test_image, axis=0)\n",
    "        print (test_image.shape)"
   ]
  },
  {
   "cell_type": "code",
   "execution_count": 80,
   "metadata": {},
   "outputs": [
    {
     "name": "stdout",
     "output_type": "stream",
     "text": [
      "[[0.00778023 0.0074342  0.00173834 0.9830472 ]]\n"
     ]
    }
   ],
   "source": [
    "print((model.predict(test_image)))"
   ]
  },
  {
   "cell_type": "code",
   "execution_count": 81,
   "metadata": {},
   "outputs": [
    {
     "name": "stdout",
     "output_type": "stream",
     "text": [
      "[3]\n"
     ]
    }
   ],
   "source": [
    "print(model.predict_classes(test_image))"
   ]
  },
  {
   "cell_type": "code",
   "execution_count": null,
   "metadata": {},
   "outputs": [],
   "source": []
  }
 ],
 "metadata": {
  "hide_input": false,
  "kernelspec": {
   "display_name": "Python 3",
   "language": "python",
   "name": "python3"
  },
  "language_info": {
   "codemirror_mode": {
    "name": "ipython",
    "version": 3
   },
   "file_extension": ".py",
   "mimetype": "text/x-python",
   "name": "python",
   "nbconvert_exporter": "python",
   "pygments_lexer": "ipython3",
   "version": "3.6.8"
  },
  "varInspector": {
   "cols": {
    "lenName": 16,
    "lenType": 16,
    "lenVar": 40
   },
   "kernels_config": {
    "python": {
     "delete_cmd_postfix": "",
     "delete_cmd_prefix": "del ",
     "library": "var_list.py",
     "varRefreshCmd": "print(var_dic_list())"
    },
    "r": {
     "delete_cmd_postfix": ") ",
     "delete_cmd_prefix": "rm(",
     "library": "var_list.r",
     "varRefreshCmd": "cat(var_dic_list()) "
    }
   },
   "types_to_exclude": [
    "module",
    "function",
    "builtin_function_or_method",
    "instance",
    "_Feature"
   ],
   "window_display": false
  }
 },
 "nbformat": 4,
 "nbformat_minor": 2
}
